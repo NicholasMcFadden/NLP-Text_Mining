{
  "cells": [
    {
      "cell_type": "markdown",
      "metadata": {
        "id": "view-in-github",
        "colab_type": "text"
      },
      "source": [
        "<a href=\"https://colab.research.google.com/github/NicholasMcFadden/NLP-Text_Mining/blob/main/All_Senti_Models.ipynb\" target=\"_parent\"><img src=\"https://colab.research.google.com/assets/colab-badge.svg\" alt=\"Open In Colab\"/></a>"
      ]
    },
    {
      "cell_type": "markdown",
      "metadata": {
        "id": "aih0CPWZv76A"
      },
      "source": [
        "# Step 1: Read in data"
      ]
    },
    {
      "cell_type": "code",
      "source": [
        "from google.colab import drive\n",
        "drive.mount('/content/drive', force_remount=True)"
      ],
      "metadata": {
        "id": "Sgth6EjHwWdD",
        "colab": {
          "base_uri": "https://localhost:8080/"
        },
        "outputId": "24245d45-7aeb-448b-8fb3-f83988e54eda"
      },
      "execution_count": null,
      "outputs": [
        {
          "output_type": "stream",
          "name": "stdout",
          "text": [
            "Mounted at /content/drive\n"
          ]
        }
      ]
    },
    {
      "cell_type": "code",
      "execution_count": null,
      "metadata": {
        "scrolled": true,
        "id": "FyS-umC8v76C",
        "colab": {
          "base_uri": "https://localhost:8080/"
        },
        "outputId": "0c14a8e7-963b-4f45-f4b6-b3fb1a3ba448"
      },
      "outputs": [
        {
          "output_type": "stream",
          "name": "stderr",
          "text": [
            "/usr/local/lib/python3.9/dist-packages/torch/cuda/__init__.py:497: UserWarning: Can't initialize NVML\n",
            "  warnings.warn(\"Can't initialize NVML\")\n"
          ]
        },
        {
          "output_type": "stream",
          "name": "stdout",
          "text": [
            "                                              Review  Rating\n",
            "0  nice hotel expensive parking got good deal sta...       4\n",
            "1  ok nothing special charge diamond member hilto...       2\n",
            "2  nice rooms not 4* experience hotel monaco seat...       3\n",
            "3  unique, great stay, wonderful time hotel monac...       5\n",
            "4  great stay great stay, went seahawk game aweso...       5\n",
            "5  love monaco staff husband stayed hotel crazy w...       5\n",
            "6  cozy stay rainy city, husband spent 7 nights m...       5\n",
            "7  excellent staff, housekeeping quality hotel ch...       4\n",
            "8  hotel stayed hotel monaco cruise, rooms genero...       5\n",
            "9  excellent stayed hotel monaco past w/e delight...       5\n",
            "20491\n"
          ]
        }
      ],
      "source": [
        "import pandas as pd\n",
        "import numpy as np\n",
        "import re\n",
        "from collections import Counter\n",
        "import matplotlib.pyplot as plt\n",
        "\n",
        "# NLTK\n",
        "import nltk\n",
        "from nltk.corpus import stopwords\n",
        "from nltk.tokenize import word_tokenize, RegexpTokenizer\n",
        "\n",
        "# Gensim libraries\n",
        "import gensim\n",
        "import gensim.corpora as corpora\n",
        "from gensim.utils import simple_preprocess\n",
        "from gensim.models.phrases import Phrases, Phraser\n",
        "\n",
        "# SpaCy\n",
        "import spacy\n",
        "\n",
        "# Sci-Kit\n",
        "\n",
        "from sklearn.model_selection import train_test_split\n",
        "from sklearn.preprocessing import LabelEncoder\n",
        "\n",
        "# Imblearn\n",
        "\n",
        "from imblearn.over_sampling import RandomOverSampler\n",
        "\n",
        "\n",
        "\n",
        "train = pd.read_csv(\"drive/Shareddrives/IST_736_Final_Project/tripadvisor_hotel_reviews.csv\")\n",
        "\n",
        "\n",
        "print(train[:10])\n",
        "y=train['Rating'].values\n",
        "X=train['Review'].values\n",
        "\n",
        "\n",
        "og_len = len(X)\n",
        "print(og_len)"
      ]
    },
    {
      "cell_type": "code",
      "source": [
        "X[:2]"
      ],
      "metadata": {
        "colab": {
          "base_uri": "https://localhost:8080/"
        },
        "id": "gjjoPjD2q4dz",
        "outputId": "5f341da3-e559-4309-8b70-9687cd5e4fc0"
      },
      "execution_count": null,
      "outputs": [
        {
          "output_type": "execute_result",
          "data": {
            "text/plain": [
              "array(['nice hotel expensive parking got good deal stay hotel anniversary, arrived late evening took advice previous reviews did valet parking, check quick easy, little disappointed non-existent view room room clean nice size, bed comfortable woke stiff neck high pillows, not soundproof like heard music room night morning loud bangs doors opening closing hear people talking hallway, maybe just noisy neighbors, aveda bath products nice, did not goldfish stay nice touch taken advantage staying longer, location great walking distance shopping, overall nice experience having pay 40 parking night,  ',\n",
              "       'ok nothing special charge diamond member hilton decided chain shot 20th anniversary seattle, start booked suite paid extra website description not, suite bedroom bathroom standard hotel room, took printed reservation desk showed said things like tv couch ect desk clerk told oh mixed suites description kimpton website sorry free breakfast, got kidding, embassy suits sitting room bathroom bedroom unlike kimpton calls suite, 5 day stay offer correct false advertising, send kimpton preferred guest website email asking failure provide suite advertised website reservation description furnished hard copy reservation printout website desk manager duty did not reply solution, send email trip guest survey did not follow email mail, guess tell concerned guest.the staff ranged indifferent not helpful, asked desk good breakfast spots neighborhood hood told no hotels, gee best breakfast spots seattle 1/2 block away convenient hotel does not know exist, arrived late night 11 pm inside run bellman busy chating cell phone help bags.prior arrival emailed hotel inform 20th anniversary half really picky wanted make sure good, got nice email saying like deliver bottle champagne chocolate covered strawberries room arrival celebrate, told needed foam pillows, arrival no champagne strawberries no foam pillows great room view alley high rise building good not better housekeeping staff cleaner room property, impressed left morning shopping room got short trips 2 hours, beds comfortable.not good ac-heat control 4 x 4 inch screen bring green shine directly eyes night, light sensitive tape controls.this not 4 start hotel clean business hotel super high rates, better chain hotels seattle,  '],\n",
              "      dtype=object)"
            ]
          },
          "metadata": {},
          "execution_count": 3
        }
      ]
    },
    {
      "cell_type": "markdown",
      "source": [
        "## Step 1.1: Data Preprocessing"
      ],
      "metadata": {
        "id": "xRaoDSR86k2m"
      }
    },
    {
      "cell_type": "code",
      "source": [
        "# Preprocessing using Gensim's \"simple_preprocess\" library\n",
        "# this library lowercases, tokenizes, and performs \n",
        "# all other basic preprocesing to turn text into data\n",
        "def sent_to_words(sentences):\n",
        "    for sentence in sentences:\n",
        "        yield(gensim.utils.simple_preprocess(str(sentence), deacc=True))  # deacc=True removes punctuations\n",
        "\n",
        "# create one list per review, with all clean tokens\n",
        "data_words = list(sent_to_words(X))\n",
        "\n",
        "# confirm the output for 1 review\n",
        "print(data_words[2])\n",
        "\n",
        "# check the length of our list of lists. It should equal the number of rows with text\n",
        "# in the dataframe:\n",
        "print(len(data_words))"
      ],
      "metadata": {
        "colab": {
          "base_uri": "https://localhost:8080/"
        },
        "id": "WtKwjaaS6fDa",
        "outputId": "95eee819-e7c8-4b9f-dbb7-08b689fdac47"
      },
      "execution_count": null,
      "outputs": [
        {
          "output_type": "stream",
          "name": "stdout",
          "text": [
            "['nice', 'rooms', 'not', 'experience', 'hotel', 'monaco', 'seattle', 'good', 'hotel', 'level', 'positives', 'large', 'bathroom', 'mediterranean', 'suite', 'comfortable', 'bed', 'housekeeping', 'staffnegatives', 'ac', 'unit', 'malfunctioned', 'stay', 'desk', 'disorganized', 'missed', 'separate', 'wakeup', 'calls', 'concierge', 'busy', 'hard', 'touch', 'did', 'provide', 'guidance', 'special', 'requests', 'tv', 'hard', 'use', 'ipod', 'sound', 'dock', 'suite', 'non', 'functioning', 'decided', 'book', 'mediterranean', 'suite', 'night', 'weekend', 'stay', 'st', 'choice', 'rest', 'party', 'filled', 'comparison', 'spent', 'night', 'larger', 'square', 'footage', 'room', 'great', 'soaking', 'tub', 'whirlpool', 'jets', 'nice', 'shower', 'before', 'stay', 'hotel', 'arrange', 'car', 'service', 'price', 'tip', 'reasonable', 'driver', 'waiting', 'arrival', 'checkin', 'easy', 'downside', 'room', 'picked', 'person', 'jacuzi', 'tub', 'no', 'bath', 'accessories', 'salts', 'bubble', 'bath', 'did', 'stay', 'night', 'got', 'checked', 'voucher', 'bottle', 'champagne', 'nice', 'gesture', 'fish', 'waiting', 'room', 'impression', 'room', 'huge', 'open', 'space', 'felt', 'room', 'big', 'tv', 'far', 'away', 'bed', 'chore', 'change', 'channel', 'ipod', 'dock', 'broken', 'disappointing', 'in', 'morning', 'way', 'asked', 'desk', 'check', 'thermostat', 'said', 'degrees', 'warm', 'try', 'cover', 'face', 'night', 'bright', 'blue', 'light', 'kept', 'got', 'room', 'night', 'no', 'st', 'drop', 'desk', 'called', 'maintainence', 'came', 'look', 'thermostat', 'told', 'play', 'settings', 'happy', 'digital', 'box', 'wo', 'work', 'asked', 'wakeup', 'am', 'morning', 'did', 'happen', 'called', 'later', 'pm', 'nap', 'wakeup', 'forgot', 'am', 'wakeup', 'morning', 'yep', 'forgotten', 'the', 'bathroom', 'facilities', 'great', 'room', 'surprised', 'room', 'sold', 'whirlpool', 'bath', 'tub', 'bath', 'amenities', 'great', 'relax', 'water', 'jets', 'going']\n",
            "20491\n"
          ]
        }
      ]
    },
    {
      "cell_type": "code",
      "source": [
        "# Define functions for stopwordsand lemmatization\n",
        "\n",
        "# from nltk.corpus import stopwords\n",
        "nltk.download('stopwords')\n",
        "\n",
        "stop_words = stopwords.words('english') \n",
        "\n",
        "\n",
        " # To check if clean_text function returned same results as remove_stopwords single line function\n",
        "def remove_stopwords(texts):\n",
        "   return [[word for word in simple_preprocess(str(doc)) if word not in stop_words] for doc in texts]\n",
        "\n",
        "\n",
        "# def clean_text(texts):\n",
        "#   result = []\n",
        "#   for doc in texts:\n",
        "#     inner_list = list()\n",
        "#     result.append(inner_list)\n",
        "#     for word in doc:\n",
        "#       if word not in stop_words:\n",
        "#         inner_list.append(word)\n",
        "#   return result\n",
        "\n",
        "\n",
        "# Function to lemmatize\n",
        "# We use a library called 'spacy' (https://spacy.io/) for this\n",
        "# To speeed up processing, we'll only lemmatize nouns, adjectives, verbs, and adverbs\n",
        "# since these are the most important words for polarity (remember we are processing text\n",
        "# deemed 'positive' in polarity)\n",
        "def lemmatization(texts, allowed_postags=['NOUN', 'ADJ', 'VERB', 'ADV']):\n",
        "    \"\"\"https://spacy.io/api/annotation\"\"\"\n",
        "    texts_out = []\n",
        "    for sent in texts:\n",
        "        doc = nlp(\" \".join(sent)) \n",
        "        texts_out.append([token.lemma_ for token in doc if token.pos_ in allowed_postags])\n",
        "    return texts_out\n"
      ],
      "metadata": {
        "colab": {
          "base_uri": "https://localhost:8080/"
        },
        "id": "d8It5ZzF87e1",
        "outputId": "a9836386-a4df-4edf-be09-40880d473ffa"
      },
      "execution_count": null,
      "outputs": [
        {
          "output_type": "stream",
          "name": "stderr",
          "text": [
            "[nltk_data] Downloading package stopwords to /root/nltk_data...\n",
            "[nltk_data]   Unzipping corpora/stopwords.zip.\n"
          ]
        }
      ]
    },
    {
      "cell_type": "code",
      "source": [
        "# process text\n",
        "# remove stopwords and create a variable with the clean corpus\n",
        "data_words_nostopwords = remove_stopwords(data_words)\n",
        "\n",
        "\n",
        "# # To check if new clean_text matched old remove_stopwords functions\n",
        "# data_words_clean = clean_text(data_words)\n",
        "# print(data_words_clean == compdata)\n",
        "# print(data_words_clean[:2])\n",
        "# print(compdata[:2])\n",
        "\n",
        "# initialize spacy's 'en_core_web_sm' package for Website text (https://spacy.io/models/en)\n",
        "nlp = spacy.load('en_core_web_sm')\n",
        "nlp.max_length = 2600000\n",
        "\n",
        "# extract our groups of words and lemmatize them\n",
        "data_lemmatized = lemmatization(data_words_nostopwords, allowed_postags=['NOUN', 'ADJ', 'VERB', 'ADV'])\n",
        "\n",
        "print(data_lemmatized[:2])\n"
      ],
      "metadata": {
        "colab": {
          "base_uri": "https://localhost:8080/"
        },
        "id": "L7yhR3ka87aX",
        "outputId": "9f4e7828-c382-4e5e-a024-17a441aaac0c"
      },
      "execution_count": null,
      "outputs": [
        {
          "output_type": "stream",
          "name": "stdout",
          "text": [
            "[['nice', 'hotel', 'expensive', 'parking', 'get', 'good', 'deal', 'stay', 'hotel', 'anniversary', 'arrive', 'late', 'evening', 'take', 'advice', 'previous', 'review', 'valet', 'parking', 'check', 'quick', 'easy', 'little', 'disappointed', 'non', 'existent', 'view', 'room', 'room', 'clean', 'nice', 'size', 'bed', 'comfortable', 'wake', 'stiff', 'neck', 'high', 'pillow', 'soundproof', 'hear', 'music', 'room', 'night', 'morning', 'loud', 'bang', 'door', 'open', 'closing', 'hear', 'people', 'talk', 'hallway', 'maybe', 'noisy', 'neighbor', 'aveda', 'bath', 'product', 'nice', 'stay', 'nice', 'touch', 'take', 'advantage', 'stay', 'long', 'location', 'great', 'walk', 'distance', 'shop', 'overall', 'nice', 'experience', 'pay', 'parking', 'night'], ['special', 'charge', 'diamond', 'member', 'decide', 'chain', 'shoot', 'anniversary', 'seattle', 'start', 'book', 'suite', 'pay', 'extra', 'website', 'description', 'suite', 'bedroom', 'bathroom', 'standard', 'hotel', 'room', 'take', 'print', 'reservation', 'desk', 'show', 'say', 'thing', 'tv', 'couch', 'ect', 'desk', 'clerk', 'tell', 'mixed', 'suite', 'free', 'breakfast', 'kid', 'embassy', 'suit', 'sit', 'room', 'bathroom', 'bedroom', 'call', 'day', 'stay', 'offer', 'correct', 'false', 'advertising', 'send', 'prefer', 'guest', 'website', 'email', 'ask', 'failure', 'provide', 'suite', 'advertised', 'website', 'reservation', 'description', 'furnish', 'hard', 'copy', 'reservation', 'manager', 'reply', 'solution', 'send', 'email', 'trip', 'guest', 'survey', 'follow', 'email', 'mail', 'guess', 'tell', 'concerned', 'guest', 'staff', 'range', 'indifferent', 'helpful', 'ask', 'desk', 'good', 'breakfast', 'spot', 'neighborhood', 'hood', 'tell', 'hotel', 'gee', 'good', 'breakfast', 'spot', 'seattle', 'block', 'away', 'convenient', 'hotel', 'know', 'exist', 'arrive', 'late', 'night', 'inside', 'run', 'bellman', 'busy', 'chat', 'cell', 'phone', 'help', 'bag', 'prior', 'arrival', 'email', 'hotel', 'inform', 'anniversary', 'half', 'really', 'picky', 'want', 'make', 'sure', 'good', 'get', 'nice', 'email', 'say', 'deliver', 'bottle', 'champagne', 'chocolate', 'cover', 'strawberry', 'room', 'arrival', 'tell', 'need', 'foam', 'pillow', 'arrival', 'foam', 'pillow', 'great', 'room', 'view', 'alley', 'high', 'rise', 'build', 'good', 'well', 'housekeeping', 'staff', 'clean', 'room', 'property', 'impressed', 'left', 'morning', 'shopping', 'room', 'get', 'short', 'trip', 'hour', 'bed', 'comfortable', 'good', 'heat', 'control', 'inch', 'screen', 'bring', 'green', 'shine', 'directly', 'eye', 'night', 'sensitive', 'tape', 'control', 'start', 'hotel', 'clean', 'business', 'hotel', 'super', 'high', 'rate', 'well', 'chain', 'hotel', 'seattle']]\n"
          ]
        }
      ]
    },
    {
      "cell_type": "code",
      "source": [
        "# CHeck to make sure data shape remained the same\n",
        "print(og_len)\n",
        "new_len = len(data_lemmatized)\n",
        "print(new_len)\n",
        "print(og_len == new_len)\n"
      ],
      "metadata": {
        "id": "rkWbqvTTC8am",
        "colab": {
          "base_uri": "https://localhost:8080/"
        },
        "outputId": "f70e383c-a496-4b0b-f729-77b3a32cef71"
      },
      "execution_count": null,
      "outputs": [
        {
          "output_type": "stream",
          "name": "stdout",
          "text": [
            "20491\n",
            "20491\n",
            "True\n"
          ]
        }
      ]
    },
    {
      "cell_type": "code",
      "source": [
        "X_clean = []\n",
        "for sent in data_lemmatized:\n",
        "  combsent = \" \".join(sent)\n",
        "  X_clean.append(combsent)\n",
        "\n",
        "print(len(X_clean))\n",
        "print(X_clean[:3])"
      ],
      "metadata": {
        "colab": {
          "base_uri": "https://localhost:8080/"
        },
        "id": "MHTDtTTnpDUr",
        "outputId": "ce0c4c01-3f13-4059-b77e-3b25e6d8e791"
      },
      "execution_count": null,
      "outputs": [
        {
          "output_type": "stream",
          "name": "stdout",
          "text": [
            "20491\n",
            "['nice hotel expensive parking get good deal stay hotel anniversary arrive late evening take advice previous review valet parking check quick easy little disappointed non existent view room room clean nice size bed comfortable wake stiff neck high pillow soundproof hear music room night morning loud bang door open closing hear people talk hallway maybe noisy neighbor aveda bath product nice stay nice touch take advantage stay long location great walk distance shop overall nice experience pay parking night', 'special charge diamond member decide chain shoot anniversary seattle start book suite pay extra website description suite bedroom bathroom standard hotel room take print reservation desk show say thing tv couch ect desk clerk tell mixed suite free breakfast kid embassy suit sit room bathroom bedroom call day stay offer correct false advertising send prefer guest website email ask failure provide suite advertised website reservation description furnish hard copy reservation manager reply solution send email trip guest survey follow email mail guess tell concerned guest staff range indifferent helpful ask desk good breakfast spot neighborhood hood tell hotel gee good breakfast spot seattle block away convenient hotel know exist arrive late night inside run bellman busy chat cell phone help bag prior arrival email hotel inform anniversary half really picky want make sure good get nice email say deliver bottle champagne chocolate cover strawberry room arrival tell need foam pillow arrival foam pillow great room view alley high rise build good well housekeeping staff clean room property impressed left morning shopping room get short trip hour bed comfortable good heat control inch screen bring green shine directly eye night sensitive tape control start hotel clean business hotel super high rate well chain hotel seattle', 'nice room experience good hotel level positive large bathroom comfortable bed housekeeping staffnegative malfunction desk disorganize miss separate call concierge busy hard touch provide guidance special request tv hard use ipod sound suite non functioning decide book night weekend stay choice rest fill comparison spend night large square footage room great soak tub whirlpool jet nice stay hotel arrange car service price tip reasonable driver wait arrival downside room pick person bath accessory salt bubble bath stay night check voucher bottle champagne nice gesture fish waiting room impression room huge open space feel room big tv far away bed chore break disappointing morning way ask desk say degree warm cover face night bright blue light keep get room night desk call maintainence come look tell play setting happy work ask happen call later forget bathroom facility great room surprised room sell whirlpool bath tub bath amenity great relax water jet go']\n"
          ]
        }
      ]
    },
    {
      "cell_type": "markdown",
      "metadata": {
        "id": "7DNmSmgzv76D"
      },
      "source": [
        "# Step 2: Split train/test data for hold-out test"
      ]
    },
    {
      "cell_type": "code",
      "execution_count": null,
      "metadata": {
        "id": "NDPwcbD1v76E",
        "colab": {
          "base_uri": "https://localhost:8080/"
        },
        "outputId": "4b949042-7f5e-4ad1-818d-0b20a067a39b"
      },
      "outputs": [
        {
          "output_type": "stream",
          "name": "stdout",
          "text": [
            "12294\n",
            "8197\n",
            "12294\n",
            "8197\n"
          ]
        }
      ],
      "source": [
        "# check the sklearn documentation for train_test_split\n",
        "# http://scikit-learn.org/stable/modules/generated/sklearn.model_selection.train_test_split.html\n",
        "# \"test_size\" : float, int, None, optional\n",
        "# If float, should be between 0.0 and 1.0 and represent the proportion of the dataset to include in the test split. \n",
        "# If int, represents the absolute number of test samples. \n",
        "# If None, the value is set to the complement of the train size. \n",
        "# By default, the value is set to 0.25. The default will change in version 0.21. It will remain 0.25 only if train_size is unspecified, otherwise it will complement the specified train_size.    \n",
        "\n",
        "test_size = 0.4\n",
        "X_train, X_test, y_train, y_test = train_test_split(X_clean, y, test_size=test_size, random_state=0)\n",
        "\n",
        "print(len(X_train))\n",
        "print(len(X_test))\n",
        "print(len(y_train))\n",
        "print(len(y_test))\n"
      ]
    },
    {
      "cell_type": "markdown",
      "metadata": {
        "id": "9CtbMrQ1v76F"
      },
      "source": [
        "# Step 2.1 Data Checking"
      ]
    },
    {
      "cell_type": "code",
      "source": [
        "\n",
        "unique, counts = np.unique(y, return_counts=True)\n",
        "print(np.asarray((unique, counts)))"
      ],
      "metadata": {
        "id": "yHm7BlBhmHmz",
        "colab": {
          "base_uri": "https://localhost:8080/"
        },
        "outputId": "d5ad6abb-6902-4632-c02b-14069001c2bd"
      },
      "execution_count": null,
      "outputs": [
        {
          "output_type": "stream",
          "name": "stdout",
          "text": [
            "[[   1    2    3    4    5]\n",
            " [1421 1793 2184 6039 9054]]\n"
          ]
        }
      ]
    },
    {
      "cell_type": "code",
      "source": [
        "\n",
        "plt.hist(y, bins = [0,1,2,3,4,5])"
      ],
      "metadata": {
        "id": "1P5KMHmamEDs",
        "colab": {
          "base_uri": "https://localhost:8080/"
        },
        "outputId": "78093d49-5378-4943-f5d6-dd5cd02351c7"
      },
      "execution_count": null,
      "outputs": [
        {
          "output_type": "execute_result",
          "data": {
            "text/plain": [
              "(array([    0.,  1421.,  1793.,  2184., 15093.]),\n",
              " array([0., 1., 2., 3., 4., 5.]),\n",
              " <BarContainer object of 5 artists>)"
            ]
          },
          "metadata": {},
          "execution_count": 11
        },
        {
          "output_type": "display_data",
          "data": {
            "text/plain": [
              "<Figure size 432x288 with 1 Axes>"
            ],
            "image/png": "[encoded data removed]"
          },
          "metadata": {
            "needs_background": "light"
          }
        }
      ]
    },
    {
      "cell_type": "code",
      "execution_count": null,
      "metadata": {
        "id": "fLUuctz4v76F",
        "colab": {
          "base_uri": "https://localhost:8080/"
        },
        "outputId": "3468b149-834f-4c31-9744-c02a0dcf28f2"
      },
      "outputs": [
        {
          "output_type": "stream",
          "name": "stdout",
          "text": [
            "[[   1    2    3    4    5]\n",
            " [ 876 1088 1253 3598 5479]]\n"
          ]
        }
      ],
      "source": [
        "# Check how many training examples in each category\n",
        "# Distribution of sentiment labels on training set\n",
        "unique, counts = np.unique(y_train, return_counts=True)\n",
        "print(np.asarray((unique, counts)))"
      ]
    },
    {
      "cell_type": "code",
      "source": [],
      "metadata": {
        "id": "LKcLzM6jpSSO"
      },
      "execution_count": null,
      "outputs": []
    },
    {
      "cell_type": "code",
      "source": [
        "plt.hist(y_train, bins=5)"
      ],
      "metadata": {
        "id": "D_AP8MdEmRP6",
        "colab": {
          "base_uri": "https://localhost:8080/"
        },
        "outputId": "473827a7-a87f-495e-c279-0e2f0324fc92"
      },
      "execution_count": null,
      "outputs": [
        {
          "output_type": "execute_result",
          "data": {
            "text/plain": [
              "(array([ 876., 1088., 1253., 3598., 5479.]),\n",
              " array([1. , 1.8, 2.6, 3.4, 4.2, 5. ]),\n",
              " <BarContainer object of 5 artists>)"
            ]
          },
          "metadata": {},
          "execution_count": 13
        },
        {
          "output_type": "display_data",
          "data": {
            "text/plain": [
              "<Figure size 432x288 with 1 Axes>"
            ],
            "image/png": "[encoded data removed]"
          },
          "metadata": {
            "needs_background": "light"
          }
        }
      ]
    },
    {
      "cell_type": "code",
      "execution_count": null,
      "metadata": {
        "id": "5KrNZeo1v76G",
        "colab": {
          "base_uri": "https://localhost:8080/"
        },
        "outputId": "5acdeac0-3743-45a0-f0ca-8406cb131778"
      },
      "outputs": [
        {
          "output_type": "stream",
          "name": "stdout",
          "text": [
            "[[   1    2    3    4    5]\n",
            " [ 545  705  931 2441 3575]]\n"
          ]
        }
      ],
      "source": [
        "# Distribution of sentiment labels on test set\n",
        "unique, counts = np.unique(y_test, return_counts=True)\n",
        "print(np.asarray((unique, counts)))\n"
      ]
    },
    {
      "cell_type": "code",
      "source": [
        "plt.hist(y_test, bins = [0,1,2,3,4,5])"
      ],
      "metadata": {
        "id": "tHqscJHrmVDF",
        "colab": {
          "base_uri": "https://localhost:8080/",
          "height": 317
        },
        "outputId": "74f61eb6-db2e-495a-a853-4ce46b9528d9"
      },
      "execution_count": null,
      "outputs": [
        {
          "output_type": "execute_result",
          "data": {
            "text/plain": [
              "(array([   0.,  545.,  705.,  931., 6016.]),\n",
              " array([0., 1., 2., 3., 4., 5.]),\n",
              " <BarContainer object of 5 artists>)"
            ]
          },
          "metadata": {},
          "execution_count": 15
        },
        {
          "output_type": "display_data",
          "data": {
            "text/plain": [
              "<Figure size 432x288 with 1 Axes>"
            ],
            "image/png": "[encoded data removed]"
          },
          "metadata": {
            "needs_background": "light"
          }
        }
      ]
    },
    {
      "cell_type": "markdown",
      "metadata": {
        "id": "yu8M9Gstv76G"
      },
      "source": [
        "# Step 3: Vectorization"
      ]
    },
    {
      "cell_type": "code",
      "execution_count": null,
      "metadata": {
        "id": "xTGd3qm7v76H"
      },
      "outputs": [],
      "source": [
        "# sklearn contains two vectorizers\n",
        "\n",
        "# CountVectorizer can give you Boolean or TF vectors\n",
        "# http://scikit-learn.org/stable/modules/generated/sklearn.feature_extraction.text.CountVectorizer.html\n",
        "\n",
        "# TfidfVectorizer can give you TF or TFIDF vectors\n",
        "# http://scikit-learn.org/stable/modules/generated/sklearn.feature_extraction.text.TfidfVectorizer.html\n",
        "\n",
        "# Read the sklearn documentation to understand all vectorization options\n",
        "\n",
        "from sklearn.feature_extraction.text import CountVectorizer\n",
        "from sklearn.feature_extraction.text import TfidfVectorizer\n",
        "\n",
        "# several commonly used vectorizer setting\n",
        "\n",
        "#  unigram boolean vectorizer, set minimum document frequency to 5\n",
        "unigram_bool_vectorizer = CountVectorizer(encoding='latin-1', binary=True, min_df=5, stop_words='english')\n",
        "\n",
        "#  unigram term frequency vectorizer, set minimum document frequency to 5\n",
        "unigram_count_vectorizer = CountVectorizer(encoding='latin-1', binary=False, min_df=5, stop_words='english')\n",
        "\n",
        "#  unigram and trigram term frequency vectorizer, set minimum document frequency to 5\n",
        "trigram_count_vectorizer = CountVectorizer(encoding='latin-1', ngram_range=(1,3), min_df=5, stop_words='english')\n",
        "\n",
        "#  unigram tfidf vectorizer, set minimum document frequency to 5\n",
        "unigram_tfidf_vectorizer = TfidfVectorizer(encoding='latin-1', use_idf=True, min_df=5, stop_words='english')\n"
      ]
    },
    {
      "cell_type": "markdown",
      "metadata": {
        "id": "70gLo8_2v76I"
      },
      "source": [
        "## Step 3.1: Vectorize the training data"
      ]
    },
    {
      "cell_type": "code",
      "source": [
        "'''Unigram count vectorizer'''\n",
        "# fit vocabulary in training documents and transform the training documents into vectors\n",
        "X_train_vec = unigram_count_vectorizer.fit_transform(X_train)\n",
        "\n",
        "# check the content of a document vector\n",
        "print(X_train_vec.shape)\n",
        "print(X_train_vec[0].toarray())\n",
        "\n",
        "# check the size of the constructed vocabulary\n",
        "print(len(unigram_count_vectorizer.vocabulary_))\n",
        "\n",
        "# print out the first 10 items in the vocabulary\n",
        "print(list(unigram_count_vectorizer.vocabulary_.items())[:10])"
      ],
      "metadata": {
        "colab": {
          "base_uri": "https://localhost:8080/"
        },
        "id": "TcW0DFeCmr4T",
        "outputId": "698f3031-4dbc-4275-8c3a-1939e772d4f8"
      },
      "execution_count": null,
      "outputs": [
        {
          "output_type": "stream",
          "name": "stdout",
          "text": [
            "(12294, 6840)\n",
            "[[0 0 0 ... 0 0 0]]\n",
            "6840\n",
            "[('earth', 1918), ('really', 4819), ('think', 6122), ('word', 6777), ('break', 737), ('dirty', 1700), ('smelly', 5549), ('room', 5122), ('toilet', 6185), ('area', 324)]\n"
          ]
        }
      ]
    },
    {
      "cell_type": "code",
      "source": [
        "'''trigram count vectorizer'''\n",
        "# fit vocabulary in training documents and transform the training documents into vectors\n",
        "X_train_vec_trigram = trigram_count_vectorizer.fit_transform(X_train)\n",
        "\n",
        "# check the content of a document vector\n",
        "print(X_train_vec_trigram.shape)\n",
        "print(X_train_vec_trigram[0].toarray())\n",
        "\n",
        "# check the size of the constructed vocabulary\n",
        "print(len(trigram_count_vectorizer.vocabulary_))\n",
        "\n",
        "# print out the first 10 items in the vocabulary\n",
        "print(list(trigram_count_vectorizer.vocabulary_.items())[:10])"
      ],
      "metadata": {
        "colab": {
          "base_uri": "https://localhost:8080/"
        },
        "id": "0vNH_BJ1mspK",
        "outputId": "69304d7a-1243-4427-9be6-2bc30f2d7c48"
      },
      "execution_count": null,
      "outputs": [
        {
          "output_type": "stream",
          "name": "stdout",
          "text": [
            "(12294, 41828)\n",
            "[[0 0 0 ... 0 0 0]]\n",
            "41828\n",
            "[('earth', 9936), ('really', 27911), ('think', 37094), ('word', 41460), ('break', 3981), ('dirty', 9167), ('smelly', 33562), ('room', 29994), ('toilet', 37730), ('area', 947)]\n"
          ]
        }
      ]
    },
    {
      "cell_type": "code",
      "execution_count": null,
      "metadata": {
        "id": "Ey0AniZBv76J",
        "outputId": "0f6b3df7-bff0-4e3b-8fa4-ff39eb7a9c62",
        "colab": {
          "base_uri": "https://localhost:8080/"
        }
      },
      "outputs": [
        {
          "output_type": "stream",
          "name": "stdout",
          "text": [
            "(12294, 6840)\n",
            "[[0. 0. 0. ... 0. 0. 0.]]\n",
            "6840\n",
            "[('earth', 1918), ('really', 4819), ('think', 6122), ('word', 6777), ('break', 737), ('dirty', 1700), ('smelly', 5549), ('room', 5122), ('toilet', 6185), ('area', 324)]\n"
          ]
        }
      ],
      "source": [
        "'''TFIDF vectorizer'''\n",
        "# fit vocabulary in training documents and transform the training documents into vectors\n",
        "X_train_vec_tfidf = unigram_tfidf_vectorizer.fit_transform(X_train)\n",
        "\n",
        "# check the content of a document vector\n",
        "print(X_train_vec_tfidf.shape)\n",
        "print(X_train_vec_tfidf[0].toarray())\n",
        "\n",
        "# check the size of the constructed vocabulary\n",
        "print(len(unigram_tfidf_vectorizer.vocabulary_))\n",
        "\n",
        "# print out the first 10 items in the vocabulary\n",
        "print(list(unigram_tfidf_vectorizer.vocabulary_.items())[:10])\n"
      ]
    },
    {
      "cell_type": "markdown",
      "source": [
        "## Step 3.2: Vectorize the bal training data"
      ],
      "metadata": {
        "id": "kKC51vdOzndG"
      }
    },
    {
      "cell_type": "code",
      "source": [
        "# Resample each vectorizer iteration to balance data set\n",
        "\n",
        "ros = RandomOverSampler(random_state=42)\n",
        "\n",
        "X_train_vec_bal, y_train_bal = ros.fit_resample(X_train_vec.toarray(), y_train)\n",
        "X_train_vec_trigram_bal, y_train_bal = ros.fit_resample(X_train_vec_trigram.toarray(), y_train)\n",
        "X_train_vec_tfidf_bal, y_train_bal = ros.fit_resample(X_train_vec_tfidf.toarray(), y_train)\n",
        "\n",
        "print(len(y_train))\n",
        "print(len(y_train_bal))\n",
        "\n",
        "print(X_train_vec.shape[0])\n",
        "print(X_train_vec_bal.shape[0])\n",
        "\n",
        "# summarize distribution\n",
        "counter = Counter(y_train_bal)\n",
        "for k,v in counter.items():\n",
        " per = v / len(y) * 100\n",
        " print('Class=%d, n=%d (%.3f%%)' % (k, v, per))\n",
        "# plot the distribution\n",
        "plt.bar(counter.keys(), counter.values())\n",
        "plt.show()"
      ],
      "metadata": {
        "id": "-ExIcy7qJZT4"
      },
      "execution_count": null,
      "outputs": []
    },
    {
      "cell_type": "markdown",
      "metadata": {
        "id": "2uY-EfoBv76K"
      },
      "source": [
        "## Step 3.2: Vectorize the test data"
      ]
    },
    {
      "cell_type": "code",
      "source": [
        "'''Unigram count vectorizer'''\n",
        "# use the vocabulary constructed from the training data to vectorize the test data. \n",
        "# Therefore, use \"transform\" only, not \"fit_transform\", \n",
        "# otherwise \"fit\" would generate a new vocabulary from the test data\n",
        "\n",
        "X_test_vec = unigram_count_vectorizer.transform(X_test)\n",
        "\n",
        "# print out #examples and #features in the test set\n",
        "print(X_test_vec.shape)"
      ],
      "metadata": {
        "id": "xaqGR2ZrnnEM"
      },
      "execution_count": null,
      "outputs": []
    },
    {
      "cell_type": "code",
      "source": [
        "'''trigram Vectorizer'''\n",
        "# use the vocabulary constructed from the training data to vectorize the test data. \n",
        "# Therefore, use \"transform\" only, not \"fit_transform\", \n",
        "# otherwise \"fit\" would generate a new vocabulary from the test data\n",
        "\n",
        "X_test_vec_trigram = trigram_count_vectorizer.transform(X_test)\n",
        "\n",
        "# print out #examples and #features in the test set\n",
        "print(X_test_vec_trigram.shape)"
      ],
      "metadata": {
        "id": "DLGkR4e3nm7L"
      },
      "execution_count": null,
      "outputs": []
    },
    {
      "cell_type": "code",
      "execution_count": null,
      "metadata": {
        "id": "WXL2tFqzv76K"
      },
      "outputs": [],
      "source": [
        "'''TFIDF Vectorizer'''\n",
        "# use the vocabulary constructed from the training data to vectorize the test data. \n",
        "# Therefore, use \"transform\" only, not \"fit_transform\", \n",
        "# otherwise \"fit\" would generate a new vocabulary from the test data\n",
        "\n",
        "X_test_vec_tfidf = unigram_tfidf_vectorizer.transform(X_test)\n",
        "\n",
        "# print out #examples and #features in the test set\n",
        "print(X_test_vec_tfidf.shape)"
      ]
    },
    {
      "cell_type": "markdown",
      "metadata": {
        "id": "n6qucH8zv76L"
      },
      "source": [
        "# Step 4: Train a MNB classifier"
      ]
    },
    {
      "cell_type": "code",
      "execution_count": null,
      "metadata": {
        "id": "M686-ET0v76L"
      },
      "outputs": [],
      "source": [
        "from sklearn.naive_bayes import MultinomialNB"
      ]
    },
    {
      "cell_type": "code",
      "execution_count": null,
      "metadata": {
        "id": "jDCOnJ8vv76L"
      },
      "outputs": [],
      "source": [
        "'''MNB Model using TFIDF vectorizer'''\n",
        "\n",
        "# initialize the MNB model\n",
        "nb_clf= MultinomialNB()\n",
        "nb_clf_trigram = MultinomialNB()\n",
        "nb_clf_tfidf = MultinomialNB()\n",
        "\n",
        "\n",
        "nb_clf_bal= MultinomialNB()\n",
        "nb_clf_trigram_bal = MultinomialNB()\n",
        "nb_clf_tfidf_bal = MultinomialNB()\n",
        "\n",
        "# use the training data to train the MNB model\n",
        "nb_clf.fit(X_train_vec, y_train)  \n",
        "nb_clf_trigram.fit(X_train_vec_trigram, y_train)  \n",
        "nb_clf_tfidf.fit(X_train_vec_tfidf, y_train)  \n",
        "\n",
        "\n",
        "nb_clf_bal.fit(X_train_vec_bal, y_train_bal)  \n",
        "nb_clf_trigram_bal.fit(X_train_vec_trigram_bal, y_train_bal)  \n",
        "nb_clf_tfidf_bal.fit(X_train_vec_tfidf_bal, y_train_bal)  \n",
        "\n",
        "\n"
      ]
    },
    {
      "cell_type": "code",
      "source": [
        "'''Unigram Feature Ranks - Negative '''\n",
        "feature_ranks = sorted(zip(nb_clf.feature_log_prob_[0], unigram_count_vectorizer.get_feature_names_out()))\n",
        "very_negative_features = feature_ranks[:10]\n",
        "print(\"Very negative words\")\n",
        "for i in range(0, len(very_negative_features)):\n",
        "    print(very_negative_features[i])"
      ],
      "metadata": {
        "id": "DtFXTgL1qU9t"
      },
      "execution_count": null,
      "outputs": []
    },
    {
      "cell_type": "code",
      "source": [
        "'''Unigram Feature Ranks - Positive '''\n",
        "feature_ranks = sorted(zip(nb_clf.feature_log_prob_[4], unigram_count_vectorizer.get_feature_names_out()))\n",
        "very_positive_features = feature_ranks[-10:]\n",
        "print(\"Very positive words\")\n",
        "for i in range(0, len(very_positive_features)):\n",
        "    print(very_positive_features[i])\n",
        "print()"
      ],
      "metadata": {
        "id": "plcKVx_nqU7f"
      },
      "execution_count": null,
      "outputs": []
    },
    {
      "cell_type": "code",
      "source": [
        "'''trigram Feature Ranks - Negative '''\n",
        "feature_ranks = sorted(zip(nb_clf_trigram.feature_log_prob_[0],trigram_count_vectorizer.get_feature_names_out()))\n",
        "very_negative_features = feature_ranks[:10]\n",
        "print(\"Very negative words\")\n",
        "for i in range(0, len(very_negative_features)):\n",
        "    print(very_negative_features[i])"
      ],
      "metadata": {
        "id": "xUTAlHMrqU4H"
      },
      "execution_count": null,
      "outputs": []
    },
    {
      "cell_type": "code",
      "source": [
        "'''trigram Feature Ranks - Positive '''\n",
        "feature_ranks = sorted(zip(nb_clf_trigram.feature_log_prob_[4], trigram_count_vectorizer.get_feature_names_out()))\n",
        "very_positive_features = feature_ranks[-10:]\n",
        "print(\"Very positive words\")\n",
        "for i in range(0, len(very_positive_features)):\n",
        "    print(very_positive_features[i])\n",
        "print()"
      ],
      "metadata": {
        "id": "C6l04L-3qU1o"
      },
      "execution_count": null,
      "outputs": []
    },
    {
      "cell_type": "code",
      "execution_count": null,
      "metadata": {
        "id": "02eCUY5Cv76M"
      },
      "outputs": [],
      "source": [
        "'''TFIDF Feature Ranks - Negative '''\n",
        "feature_ranks = sorted(zip(nb_clf_tfidf.feature_log_prob_[0], unigram_tfidf_vectorizer.get_feature_names_out()))\n",
        "very_negative_features = feature_ranks[-10:]\n",
        "print(\"Very negative words\")\n",
        "for i in range(0, len(very_negative_features)):\n",
        "    print(very_negative_features[i])\n",
        "print()"
      ]
    },
    {
      "cell_type": "code",
      "execution_count": null,
      "metadata": {
        "id": "RQuDy9-bv76M"
      },
      "outputs": [],
      "source": [
        "'''TFIDF Feature Ranks - Positive '''\n",
        "feature_ranks = sorted(zip(nb_clf_tfidf.feature_log_prob_[4], unigram_tfidf_vectorizer.get_feature_names_out()))\n",
        "very_positive_features = feature_ranks[-10:]\n",
        "print(\"Very positive words\")\n",
        "for i in range(0, len(very_positive_features)):\n",
        "    print(very_positive_features[i])\n",
        "print()"
      ]
    },
    {
      "cell_type": "code",
      "execution_count": null,
      "metadata": {
        "id": "aDbh-d-wv76N"
      },
      "outputs": [],
      "source": [
        "# test the classifier on the test data set, print accuracy score\n",
        "\n",
        "print('Unigram Score: ',nb_clf.score(X_test_vec, y_test))\n",
        "print('Trigram Score: ',nb_clf_trigram.score(X_test_vec_trigram, y_test))\n",
        "print('TFIDF Score: ',nb_clf_tfidf.score(X_test_vec_tfidf, y_test))\n",
        "\n",
        "print('Unigram Bal Score: ',nb_clf_bal.score(X_test_vec.toarray(), y_test))\n",
        "print('Trigram Bal Score: ',nb_clf_trigram_bal.score(X_test_vec_trigram.toarray(), y_test))\n",
        "print('TFIDF Bal Score: ',nb_clf_tfidf_bal.score(X_test_vec_tfidf.toarray(), y_test))\n",
        "\n"
      ]
    },
    {
      "cell_type": "code",
      "source": [
        "# Create lists to append returned values for model comparison at the end\n",
        "model_name = []\n",
        "model_type = []\n",
        "vector_type = []\n",
        "sample_type = []\n",
        "data_type = []\n",
        "accuracy = []\n",
        "precision_wavg = []\n",
        "recall_wavg = []\n",
        "f1_wavg = []"
      ],
      "metadata": {
        "id": "ksikE7zO6GP1"
      },
      "execution_count": null,
      "outputs": []
    },
    {
      "cell_type": "code",
      "source": [
        "'''Unigram '''\n",
        "# print confusion matrix (row: ground truth; col: prediction)\n",
        "\n",
        "from sklearn.metrics import confusion_matrix\n",
        "nb_y_pred = nb_clf.predict(X_test_vec)\n",
        "cm=confusion_matrix(y_test, nb_y_pred, labels=[0,1,2,3,4])\n",
        "print(cm)\n",
        "\n",
        "# print classification report\n",
        "### Unigram Count\n",
        "from sklearn.metrics import precision_score\n",
        "from sklearn.metrics import recall_score\n",
        "\n",
        "from sklearn.metrics import classification_report\n",
        "target_names = ['1','2','3','4','5']\n",
        "print(classification_report(y_test, nb_y_pred, target_names=target_names))\n",
        "\n",
        "report = classification_report(y_test, nb_y_pred, target_names=target_names,output_dict=True)\n",
        "\n",
        "# Append model values to apply to a dataframe to compare model performance\n",
        "model_name.append('MNB-1C')\n",
        "model_type.append('MNB')\n",
        "vector_type.append('Unigram Count')\n",
        "sample_type.append('Hold-Out: '+ str(test_size))\n",
        "data_type.append('Original')\n",
        "accuracy.append(report['accuracy'])\n",
        "precision_wavg.append(report['weighted avg']['precision'])\n",
        "recall_wavg.append(report['weighted avg']['recall'])\n",
        "f1_wavg.append(report['weighted avg']['f1-score'])\n"
      ],
      "metadata": {
        "id": "tzujKkLstJmv"
      },
      "execution_count": null,
      "outputs": []
    },
    {
      "cell_type": "code",
      "source": [
        "\n",
        "nb_y_pred_bal = nb_clf_bal.predict(X_test_vec)\n",
        "cm=confusion_matrix(y_test, nb_y_pred_bal, labels=[0,1,2,3,4])\n",
        "print(cm)\n",
        "\n",
        "\n",
        "target_names = ['1','2','3','4','5']\n",
        "print(classification_report(y_test, nb_y_pred_bal, target_names=target_names))\n",
        "\n",
        "report = classification_report(y_test, nb_y_pred_bal, target_names=target_names,output_dict=True)\n",
        "\n",
        "# Append model values to apply to a dataframe to compare model performance\n",
        "model_name.append('MNB-1C')\n",
        "model_type.append('MNB')\n",
        "vector_type.append('Unigram Count')\n",
        "sample_type.append('Hold-Out: '+ str(test_size))\n",
        "data_type.append('Balanced')\n",
        "accuracy.append(report['accuracy'])\n",
        "precision_wavg.append(report['weighted avg']['precision'])\n",
        "recall_wavg.append(report['weighted avg']['recall'])\n",
        "f1_wavg.append(report['weighted avg']['f1-score'])"
      ],
      "metadata": {
        "id": "LdeS0zUqYiwE"
      },
      "execution_count": null,
      "outputs": []
    },
    {
      "cell_type": "code",
      "source": [
        "'''trigram '''\n",
        "# print confusion matrix (row: ground truth; col: prediction)\n",
        "\n",
        "nb_y_pred_trigram = nb_clf_trigram.predict(X_test_vec_trigram)\n",
        "cm=confusion_matrix(y_test, nb_y_pred_trigram, labels=[0,1,2,3,4])\n",
        "print(cm)\n",
        "\n",
        "# print classification report\n",
        "target_names = ['1','2','3','4','5']\n",
        "print(classification_report(y_test, nb_y_pred_trigram, target_names=target_names))\n",
        "\n",
        "report = classification_report(y_test, nb_y_pred_trigram, target_names=target_names,output_dict=True)\n",
        "\n",
        "# Append model values to apply to a dataframe to compare model performance\n",
        "model_name.append('MNB-3C')\n",
        "model_type.append('MNB')\n",
        "vector_type.append('trigram Count')\n",
        "sample_type.append('Hold-Out: '+ str(test_size))\n",
        "data_type.append('Original')\n",
        "accuracy.append(report['accuracy'])\n",
        "precision_wavg.append(report['weighted avg']['precision'])\n",
        "recall_wavg.append(report['weighted avg']['recall'])\n",
        "f1_wavg.append(report['weighted avg']['f1-score'])"
      ],
      "metadata": {
        "id": "q0P7hzAEtJj1"
      },
      "execution_count": null,
      "outputs": []
    },
    {
      "cell_type": "code",
      "source": [
        "# print confusion matrix (row: ground truth; col: prediction)\n",
        "\n",
        "nb_y_pred_trigram_bal = nb_clf_trigram_bal.predict(X_test_vec_trigram)\n",
        "cm=confusion_matrix(y_test, nb_y_pred_trigram_bal, labels=[0,1,2,3,4])\n",
        "print(cm)\n",
        "\n",
        "# print classification report\n",
        "target_names = ['1','2','3','4','5']\n",
        "print(classification_report(y_test, nb_y_pred_trigram_bal, target_names=target_names))\n",
        "\n",
        "report = classification_report(y_test, nb_y_pred_trigram_bal, target_names=target_names,output_dict=True)\n",
        "\n",
        "# Append model values to apply to a dataframe to compare model performance\n",
        "model_name.append('MNB-3C')\n",
        "model_type.append('MNB')\n",
        "vector_type.append('trigram Count')\n",
        "sample_type.append('Hold-Out: '+ str(test_size))\n",
        "data_type.append('Balanced')\n",
        "accuracy.append(report['accuracy'])\n",
        "precision_wavg.append(report['weighted avg']['precision'])\n",
        "recall_wavg.append(report['weighted avg']['recall'])\n",
        "f1_wavg.append(report['weighted avg']['f1-score'])"
      ],
      "metadata": {
        "id": "tN9wFpxObB5k"
      },
      "execution_count": null,
      "outputs": []
    },
    {
      "cell_type": "code",
      "execution_count": null,
      "metadata": {
        "scrolled": false,
        "id": "0OgIJ6Dqv76N"
      },
      "outputs": [],
      "source": [
        "'''TFIDF '''\n",
        "# print confusion matrix (row: ground truth; col: prediction)\n",
        "\n",
        "nb_y_pred_tfidf = nb_clf_tfidf.predict(X_test_vec_tfidf)\n",
        "cm=confusion_matrix(y_test, nb_y_pred_tfidf, labels=[0,1,2,3,4])\n",
        "print(cm)\n",
        "\n",
        "# print classification report\n",
        "target_names = ['1','2','3','4','5']\n",
        "print(classification_report(y_test, nb_y_pred_tfidf, target_names=target_names))\n",
        "\n",
        "report = classification_report(y_test, nb_y_pred_tfidf, target_names=target_names,output_dict=True)\n",
        "\n",
        "# Append model values to apply to a dataframe to compare model performance\n",
        "model_name.append('MNB-TFIDF')\n",
        "model_type.append('MNB')\n",
        "vector_type.append('TFIDF')\n",
        "sample_type.append('Hold-Out: '+ str(test_size))\n",
        "data_type.append('Original')\n",
        "accuracy.append(report['accuracy'])\n",
        "precision_wavg.append(report['weighted avg']['precision'])\n",
        "recall_wavg.append(report['weighted avg']['recall'])\n",
        "f1_wavg.append(report['weighted avg']['f1-score'])"
      ]
    },
    {
      "cell_type": "code",
      "source": [
        "# print confusion matrix (row: ground truth; col: prediction)\n",
        "\n",
        "nb_y_pred_tfidf_bal = nb_clf_tfidf_bal.predict(X_test_vec_tfidf)\n",
        "cm=confusion_matrix(y_test, nb_y_pred_tfidf_bal, labels=[0,1,2,3,4])\n",
        "print(cm)\n",
        "\n",
        "# print classification report\n",
        "target_names = ['1','2','3','4','5']\n",
        "print(classification_report(y_test, nb_y_pred_tfidf_bal, target_names=target_names))\n",
        "\n",
        "report = classification_report(y_test, nb_y_pred_tfidf_bal, target_names=target_names,output_dict=True)\n",
        "\n",
        "# Append model values to apply to a dataframe to compare model performance\n",
        "model_name.append('MNB-TFIDF')\n",
        "model_type.append('MNB')\n",
        "vector_type.append('TFIDF')\n",
        "sample_type.append('Hold-Out: '+ str(test_size))\n",
        "data_type.append('Balanced')\n",
        "accuracy.append(report['accuracy'])\n",
        "precision_wavg.append(report['weighted avg']['precision'])\n",
        "recall_wavg.append(report['weighted avg']['recall'])\n",
        "f1_wavg.append(report['weighted avg']['f1-score'])"
      ],
      "metadata": {
        "id": "ymjFzkefbw9t"
      },
      "execution_count": null,
      "outputs": []
    },
    {
      "cell_type": "markdown",
      "metadata": {
        "id": "QW5IzK78v76N"
      },
      "source": [
        "# Train SVM Model"
      ]
    },
    {
      "cell_type": "code",
      "execution_count": null,
      "metadata": {
        "id": "3eeRK32vv76O"
      },
      "outputs": [],
      "source": [
        "'''SVN model using trigram count vectorizer'''\n",
        "# import the LinearSVC module\n",
        "from sklearn.svm import LinearSVC\n",
        "\n",
        "# initialize the LinearSVC model\n",
        "svm_clf = LinearSVC(C=1)\n",
        "svm_clf_trigram = LinearSVC(C=1)\n",
        "svm_clf_tfidf = LinearSVC(C=1)\n",
        "\n",
        "svm_clf_bal = LinearSVC(C=1)\n",
        "svm_clf_trigram_bal = LinearSVC(C=1)\n",
        "svm_clf_tfidf_bal = LinearSVC(C=1)\n",
        "\n",
        "\n",
        "# use the training data to train the model\n",
        "svm_clf.fit(X_train_vec,y_train)\n",
        "svm_clf_trigram.fit(X_train_vec_trigram,y_train)\n",
        "svm_clf_tfidf.fit(X_train_vec_tfidf,y_train)\n",
        "\n",
        "svm_clf_bal.fit(X_train_vec_bal,y_train_bal)\n",
        "svm_clf_trigram_bal.fit(X_train_vec_trigram_bal,y_train_bal)\n",
        "svm_clf_tfidf_bal.fit(X_train_vec_tfidf_bal,y_train_bal)\n",
        "\n"
      ]
    },
    {
      "cell_type": "code",
      "source": [
        "'''Unigram Feature Ranks - Negative '''\n",
        "feature_ranks = sorted(zip(svm_clf.coef_[0], unigram_count_vectorizer.get_feature_names_out()))\n",
        "very_negative_features = feature_ranks[:10]\n",
        "print(\"Very negative words\")\n",
        "for i in range(0, len(very_negative_features)):\n",
        "    print(very_negative_features[i])"
      ],
      "metadata": {
        "id": "jWMc5kZbvDS0"
      },
      "execution_count": null,
      "outputs": []
    },
    {
      "cell_type": "code",
      "source": [
        "'''Unigram Feature Ranks - Positive '''\n",
        "feature_ranks = sorted(zip(svm_clf.coef_[4], unigram_count_vectorizer.get_feature_names_out()))\n",
        "very_positive_features = feature_ranks[-10:]\n",
        "print(\"Very positive words\")\n",
        "for i in range(0, len(very_positive_features)):\n",
        "    print(very_positive_features[i])\n",
        "print()"
      ],
      "metadata": {
        "id": "7K_t1ULkvDS0"
      },
      "execution_count": null,
      "outputs": []
    },
    {
      "cell_type": "code",
      "source": [
        "'''trigram Feature Ranks - Negative '''\n",
        "feature_ranks = sorted(zip(svm_clf_trigram.coef_[0],trigram_count_vectorizer.get_feature_names_out()))\n",
        "very_negative_features = feature_ranks[:10]\n",
        "print(\"Very negative words\")\n",
        "for i in range(0, len(very_negative_features)):\n",
        "    print(very_negative_features[i])"
      ],
      "metadata": {
        "id": "NeJ_hnxkvDS1"
      },
      "execution_count": null,
      "outputs": []
    },
    {
      "cell_type": "code",
      "source": [
        "'''trigram Feature Ranks - Positive '''\n",
        "feature_ranks = sorted(zip(svm_clf_trigram.coef_[4], trigram_count_vectorizer.get_feature_names_out()))\n",
        "very_positive_features = feature_ranks[-10:]\n",
        "print(\"Very positive words\")\n",
        "for i in range(0, len(very_positive_features)):\n",
        "    print(very_positive_features[i])\n",
        "print()"
      ],
      "metadata": {
        "id": "nN5jzMECvDS1"
      },
      "execution_count": null,
      "outputs": []
    },
    {
      "cell_type": "code",
      "execution_count": null,
      "metadata": {
        "id": "LIV-6X4uvDS1"
      },
      "outputs": [],
      "source": [
        "'''TFIDF Feature Ranks - Negative '''\n",
        "feature_ranks = sorted(zip(svm_clf_tfidf.coef_[0], unigram_tfidf_vectorizer.get_feature_names_out()))\n",
        "very_negative_features = feature_ranks[-10:]\n",
        "print(\"Very negative words\")\n",
        "for i in range(0, len(very_negative_features)):\n",
        "    print(very_negative_features[i])\n",
        "print()"
      ]
    },
    {
      "cell_type": "code",
      "execution_count": null,
      "metadata": {
        "id": "gijbTiq5vDS1"
      },
      "outputs": [],
      "source": [
        "'''TFIDF Feature Ranks - Positive '''\n",
        "feature_ranks = sorted(zip(svm_clf_tfidf.coef_[4], unigram_tfidf_vectorizer.get_feature_names_out()))\n",
        "very_positive_features = feature_ranks[-10:]\n",
        "print(\"Very positive words\")\n",
        "for i in range(0, len(very_positive_features)):\n",
        "    print(very_positive_features[i])\n",
        "print()"
      ]
    },
    {
      "cell_type": "code",
      "execution_count": null,
      "metadata": {
        "id": "jzwDOy-Gv76P"
      },
      "outputs": [],
      "source": [
        "# test the classifier on the test data set, print accuracy score\n",
        "\n",
        "print('Unigram Score: ',svm_clf.score(X_test_vec,y_test))\n",
        "print('trigram Score: ',svm_clf_trigram.score(X_test_vec_trigram,y_test))\n",
        "print('TFIDF Score: ',svm_clf_tfidf.score(X_test_vec_tfidf,y_test))\n",
        "\n",
        "print('Unigram Bal Score: ',svm_clf_bal.score(X_test_vec,y_test))\n",
        "print('trigram Bal Score: ',svm_clf_trigram_bal.score(X_test_vec_trigram,y_test))\n",
        "print('TFIDF Bal Score: ',svm_clf_tfidf_bal.score(X_test_vec_tfidf,y_test))"
      ]
    },
    {
      "cell_type": "code",
      "execution_count": null,
      "metadata": {
        "id": "eHzqD_65v76P"
      },
      "outputs": [],
      "source": [
        "''' Unigram'''\n",
        "# print confusion matrix and classification report\n",
        "svm_y_pred = svm_clf.predict(X_test_vec)\n",
        "cm=confusion_matrix(y_test, svm_y_pred, labels=[0,1,2,3,4])\n",
        "print(cm)\n",
        "print()\n",
        "\n",
        "target_names = ['1','2','3','4','5']\n",
        "print(classification_report(y_test, svm_y_pred, target_names=target_names))\n",
        "\n",
        "report = classification_report(y_test, svm_y_pred, target_names=target_names,output_dict=True)\n",
        "\n",
        "# Append model values to apply to a dataframe to compare model performance\n",
        "model_name.append('SVM-1C')\n",
        "model_type.append('SVM')\n",
        "vector_type.append('Unigram Count')\n",
        "sample_type.append('Hold-Out: ' + str(test_size))\n",
        "data_type.append('Original')\n",
        "accuracy.append(report['accuracy'])\n",
        "precision_wavg.append(report['weighted avg']['precision'])\n",
        "recall_wavg.append(report['weighted avg']['recall'])\n",
        "f1_wavg.append(report['weighted avg']['f1-score'])"
      ]
    },
    {
      "cell_type": "code",
      "source": [
        "svm_y_pred_bal = svm_clf_bal.predict(X_test_vec)\n",
        "cm=confusion_matrix(y_test, svm_y_pred_bal, labels=[0,1,2,3,4])\n",
        "print(cm)\n",
        "print()\n",
        "\n",
        "target_names = ['1','2','3','4','5']\n",
        "print(classification_report(y_test, svm_y_pred_bal, target_names=target_names))\n",
        "\n",
        "report = classification_report(y_test, svm_y_pred_bal, target_names=target_names,output_dict=True)\n",
        "\n",
        "# Append model values to apply to a dataframe to compare model performance\n",
        "model_name.append('SVM-1C')\n",
        "model_type.append('SVM')\n",
        "vector_type.append('Unigram Count')\n",
        "sample_type.append('Hold-Out: ' + str(test_size))\n",
        "data_type.append('Balanced')\n",
        "accuracy.append(report['accuracy'])\n",
        "precision_wavg.append(report['weighted avg']['precision'])\n",
        "recall_wavg.append(report['weighted avg']['recall'])\n",
        "f1_wavg.append(report['weighted avg']['f1-score'])"
      ],
      "metadata": {
        "id": "X-nbFQWFdzUd"
      },
      "execution_count": null,
      "outputs": []
    },
    {
      "cell_type": "code",
      "source": [
        "''' trigram'''\n",
        "# print confusion matrix and classification report\n",
        "\n",
        "svm_y_pred_trigram = svm_clf_trigram.predict(X_test_vec_trigram)\n",
        "cm=confusion_matrix(y_test, svm_y_pred_trigram, labels=[0,1,2,3,4])\n",
        "print(cm)\n",
        "print()\n",
        "\n",
        "target_names = ['1','2','3','4','5']\n",
        "print(classification_report(y_test, svm_y_pred_trigram, target_names=target_names))\n",
        "\n",
        "report = classification_report(y_test, svm_y_pred_trigram, target_names=target_names,output_dict=True)\n",
        "\n",
        "# Append model values to apply to a dataframe to compare model performance\n",
        "model_name.append('SVM-3C')\n",
        "model_type.append('SVM')\n",
        "vector_type.append('trigram Count')\n",
        "sample_type.append('Hold-Out: ' + str(test_size))\n",
        "data_type.append('Original')\n",
        "accuracy.append(report['accuracy'])\n",
        "precision_wavg.append(report['weighted avg']['precision'])\n",
        "recall_wavg.append(report['weighted avg']['recall'])\n",
        "f1_wavg.append(report['weighted avg']['f1-score'])"
      ],
      "metadata": {
        "id": "XCmwN_PRxD14"
      },
      "execution_count": null,
      "outputs": []
    },
    {
      "cell_type": "code",
      "source": [
        "# print confusion matrix and classification report\n",
        "\n",
        "svm_y_pred_trigram_bal = svm_clf_trigram_bal.predict(X_test_vec_trigram)\n",
        "cm=confusion_matrix(y_test, svm_y_pred_trigram_bal, labels=[0,1,2,3,4])\n",
        "print(cm)\n",
        "print()\n",
        "\n",
        "target_names = ['1','2','3','4','5']\n",
        "print(classification_report(y_test, svm_y_pred_trigram_bal, target_names=target_names))\n",
        "\n",
        "report = classification_report(y_test, svm_y_pred_trigram_bal, target_names=target_names,output_dict=True)\n",
        "\n",
        "# Append model values to apply to a dataframe to compare model performance\n",
        "model_name.append('SVM-3C')\n",
        "model_type.append('SVM')\n",
        "vector_type.append('trigram Count')\n",
        "sample_type.append('Hold-Out: ' + str(test_size))\n",
        "data_type.append('Balanaced')\n",
        "accuracy.append(report['accuracy'])\n",
        "precision_wavg.append(report['weighted avg']['precision'])\n",
        "recall_wavg.append(report['weighted avg']['recall'])\n",
        "f1_wavg.append(report['weighted avg']['f1-score'])"
      ],
      "metadata": {
        "id": "AbdHYUOZfnXE"
      },
      "execution_count": null,
      "outputs": []
    },
    {
      "cell_type": "code",
      "source": [
        "''' TFIDF'''\n",
        "# print confusion matrix and classification report\n",
        "\n",
        "svm_y_pred_tfidf = svm_clf_tfidf.predict(X_test_vec_tfidf)\n",
        "cm=confusion_matrix(y_test, svm_y_pred_tfidf, labels=[0,1,2,3,4])\n",
        "print(cm)\n",
        "print()\n",
        "\n",
        "target_names = ['1','2','3','4','5']\n",
        "print(classification_report(y_test, svm_y_pred_tfidf, target_names=target_names))\n",
        "\n",
        "report = classification_report(y_test, svm_y_pred_tfidf, target_names=target_names,output_dict=True)\n",
        "\n",
        "# Append model values to apply to a dataframe to compare model performance\n",
        "model_name.append('SVM-TFIDF')\n",
        "model_type.append('SVM')\n",
        "vector_type.append('TFIDF')\n",
        "sample_type.append('Hold-Out: '+ str(test_size))\n",
        "data_type.append('Original')\n",
        "accuracy.append(report['accuracy'])\n",
        "precision_wavg.append(report['weighted avg']['precision'])\n",
        "recall_wavg.append(report['weighted avg']['recall'])\n",
        "f1_wavg.append(report['weighted avg']['f1-score'])"
      ],
      "metadata": {
        "id": "wad6Hr8GxDuB"
      },
      "execution_count": null,
      "outputs": []
    },
    {
      "cell_type": "code",
      "source": [
        "# print confusion matrix and classification report\n",
        "\n",
        "svm_y_pred_tfidf_bal = svm_clf_tfidf_bal.predict(X_test_vec_tfidf)\n",
        "cm=confusion_matrix(y_test, svm_y_pred_tfidf_bal, labels=[0,1,2,3,4])\n",
        "print(cm)\n",
        "print()\n",
        "\n",
        "target_names = ['1','2','3','4','5']\n",
        "print(classification_report(y_test, svm_y_pred_tfidf_bal, target_names=target_names))\n",
        "\n",
        "report = classification_report(y_test, svm_y_pred_tfidf_bal, target_names=target_names,output_dict=True)\n",
        "\n",
        "# Append model values to apply to a dataframe to compare model performance\n",
        "model_name.append('SVM-TFIDF')\n",
        "model_type.append('SVM')\n",
        "vector_type.append('TFIDF')\n",
        "sample_type.append('Hold-Out: '+ str(test_size))\n",
        "data_type.append('Balanaced')\n",
        "accuracy.append(report['accuracy'])\n",
        "precision_wavg.append(report['weighted avg']['precision'])\n",
        "recall_wavg.append(report['weighted avg']['recall'])\n",
        "f1_wavg.append(report['weighted avg']['f1-score'])"
      ],
      "metadata": {
        "id": "LGbBE4gtgGUs"
      },
      "execution_count": null,
      "outputs": []
    },
    {
      "cell_type": "markdown",
      "source": [
        "# Bernoulli NB\n",
        "\n"
      ],
      "metadata": {
        "id": "CJ2sca9T1dVT"
      }
    },
    {
      "cell_type": "code",
      "source": [
        "# fit vocabulary in training documents and transform the training documents into vectors\n",
        "X_train_bool = unigram_bool_vectorizer.fit_transform(X_train)\n",
        "\n",
        "# check the content of a document vector\n",
        "print(X_train_bool.shape)\n",
        "print(X_train_bool[0].toarray())\n",
        "\n",
        "# check the size of the constructed vocabulary\n",
        "print(len(unigram_bool_vectorizer.vocabulary_))\n",
        "\n",
        "# print out the first 10 items in the vocabulary\n",
        "print(list(unigram_bool_vectorizer.vocabulary_.items()))"
      ],
      "metadata": {
        "id": "wsdVgnZB1c5E"
      },
      "execution_count": null,
      "outputs": []
    },
    {
      "cell_type": "code",
      "source": [
        "# use the vocabulary constructed from the training data to vectorize the test data. \n",
        "X_test_bool = unigram_bool_vectorizer.transform(X_test)\n",
        "\n",
        "# print out #examples and #features in the test set\n",
        "print(X_test_bool.shape)"
      ],
      "metadata": {
        "id": "TJEzHLot1c15"
      },
      "execution_count": null,
      "outputs": []
    },
    {
      "cell_type": "code",
      "source": [
        "from sklearn.naive_bayes import BernoulliNB\n",
        "# X_train_vec_bool = unigram_bool_vectorizer.fit_transform(X_train)\n",
        "bernoulliNB_clf = BernoulliNB()\n",
        "\n",
        "# use the training data to train the MNB model\n",
        "bernoulliNB_clf.fit(X_train_bool,y_train) "
      ],
      "metadata": {
        "id": "em6F2qXT2J5G"
      },
      "execution_count": null,
      "outputs": []
    },
    {
      "cell_type": "code",
      "source": [
        "# print confusion matrix (row: ground truth; col: prediction)\n",
        "### bool\n",
        "\n",
        "y_pred_bool = bernoulliNB_clf.fit(X_train_bool, y_train).predict(X_test_bool)\n",
        "cm=confusion_matrix(y_test, y_pred_bool, labels=[1,2,3,4,5])\n",
        "print(cm)\n",
        "\n",
        "# print classification report \n",
        "### bool\n",
        "\n",
        "from sklearn.metrics import classification_report\n",
        "target_names = ['1', '2', '3', '4', '5']\n",
        "print(classification_report(y_test, y_pred_bool, target_names=target_names))\n",
        "\n",
        "report = classification_report(y_test, y_pred_bool, target_names=target_names,output_dict=True)\n",
        "\n",
        "# Append model values to apply to a dataframe to compare model performance\n",
        "model_name.append('NB Bern')\n",
        "model_type.append('Bernoulli')\n",
        "vector_type.append('Boolean')\n",
        "sample_type.append('Hold-Out: '+ str(test_size))\n",
        "accuracy.append(report['accuracy'])\n",
        "precision_wavg.append(report['weighted avg']['precision'])\n",
        "recall_wavg.append(report['weighted avg']['recall'])\n",
        "f1_wavg.append(report['weighted avg']['f1-score'])"
      ],
      "metadata": {
        "id": "oE7Cl4zD2J0H"
      },
      "execution_count": null,
      "outputs": []
    },
    {
      "cell_type": "markdown",
      "metadata": {
        "id": "j4DPwK36v76Q"
      },
      "source": [
        "# Step 6: write the prediction output to file"
      ]
    },
    {
      "cell_type": "code",
      "execution_count": null,
      "metadata": {
        "id": "FmEM4Xqov76Q"
      },
      "outputs": [],
      "source": [
        "# y_pred=nb_clf.predict(X_test_vec)\n",
        "# output = open('/Users/michaelharper/prediction_output.csv', 'w')\n",
        "# for x, value in enumerate(y_pred):\n",
        "#   output.write(str(value) + '\\n') \n",
        "# output.close()"
      ]
    },
    {
      "cell_type": "markdown",
      "metadata": {
        "id": "DOgfFU_wv76Q"
      },
      "source": [
        "# Cross Validation"
      ]
    },
    {
      "cell_type": "code",
      "source": [
        "'''Unigram MNB'''\n",
        "# cross validation NB\n",
        "\n",
        "from sklearn.pipeline import Pipeline\n",
        "from sklearn.model_selection import cross_val_score\n",
        "nb_clf_pipe = Pipeline([('vect', unigram_count_vectorizer),('nb', MultinomialNB())])\n",
        "scores = cross_val_score(nb_clf_pipe, X, y, cv=10)\n",
        "avg=sum(scores)/len(scores)\n",
        "print(avg)\n",
        "\n",
        "model_name.append('MNB-1C_CV')\n",
        "model_type.append('MNB')\n",
        "vector_type.append('Unigram Count')\n",
        "sample_type.append('10-CV')\n",
        "accuracy.append(avg)"
      ],
      "metadata": {
        "id": "ko8OrWydxsvZ"
      },
      "execution_count": null,
      "outputs": []
    },
    {
      "cell_type": "code",
      "source": [
        "'''trigram MNB'''\n",
        "# cross validation NB\n",
        "\n",
        "nb_clf_trigram_pipe = Pipeline([('vect', trigram_count_vectorizer),('nb', MultinomialNB())])\n",
        "scores = cross_val_score(nb_clf_trigram_pipe, X, y, cv=10)\n",
        "avg=sum(scores)/len(scores)\n",
        "print(avg)\n",
        "\n",
        "model_name.append('MNB-3C_CV')\n",
        "model_type.append('MNB')\n",
        "vector_type.append('trigram Count')\n",
        "sample_type.append('10-CV')\n",
        "accuracy.append(avg)"
      ],
      "metadata": {
        "id": "Fz3-cwVBxsn7"
      },
      "execution_count": null,
      "outputs": []
    },
    {
      "cell_type": "code",
      "source": [
        "'''TFIDF MNB'''\n",
        "# cross validation NB\n",
        "\n",
        "nb_clf_tfidf_pipe = Pipeline([('vect', unigram_tfidf_vectorizer),('nb', MultinomialNB())])\n",
        "scores = cross_val_score(nb_clf_tfidf_pipe, X, y, cv=10)\n",
        "avg=sum(scores)/len(scores)\n",
        "print(avg)\n",
        "\n",
        "model_name.append('MNB-TFIDF_CV')\n",
        "model_type.append('MNB')\n",
        "vector_type.append('TFIDF')\n",
        "sample_type.append('10-CV')\n",
        "accuracy.append(avg)"
      ],
      "metadata": {
        "id": "sSAwoqlrxscb"
      },
      "execution_count": null,
      "outputs": []
    },
    {
      "cell_type": "code",
      "source": [
        "'''Unigram SVM'''\n",
        "# cross validation SVM\n",
        "\n",
        "svm_clf_pipe = Pipeline([('vect', unigram_count_vectorizer),('svm', LinearSVC(C=0.5))])\n",
        "scores = cross_val_score(svm_clf_pipe, X, y, cv=10)\n",
        "avg=sum(scores)/len(scores)\n",
        "print(avg)\n",
        "\n",
        "# Append model values to apply to a dataframe to compare model performance\n",
        "model_name.append('SVM-1C_CV')\n",
        "model_type.append('SVM')\n",
        "vector_type.append('Unigram Count')\n",
        "sample_type.append('10-CV')\n",
        "accuracy.append(avg)"
      ],
      "metadata": {
        "id": "iGYwTEvdxsQH"
      },
      "execution_count": null,
      "outputs": []
    },
    {
      "cell_type": "code",
      "execution_count": null,
      "metadata": {
        "id": "6pHqyGKov76Q"
      },
      "outputs": [],
      "source": [
        "'''trigram SVM'''\n",
        "# cross validation SVM\n",
        "\n",
        "svm_clf_trigram_pipe = Pipeline([('vect', trigram_count_vectorizer),('svm', LinearSVC(C=0.5))])\n",
        "scores = cross_val_score(svm_clf_trigram_pipe, X, y, cv=10)\n",
        "avg=sum(scores)/len(scores)\n",
        "print(avg)\n",
        "\n",
        "# Append model values to apply to a dataframe to compare model performance\n",
        "model_name.append('SVM-3C_CV')\n",
        "model_type.append('SVM')\n",
        "vector_type.append('trigram Count')\n",
        "sample_type.append('10-CV')\n",
        "accuracy.append(avg)"
      ]
    },
    {
      "cell_type": "code",
      "execution_count": null,
      "metadata": {
        "id": "-3DKusf_v76R"
      },
      "outputs": [],
      "source": [
        "'''TFIDF SVM'''\n",
        "# cross validation SVM\n",
        "\n",
        "svm_clf_tfidf_pipe = Pipeline([('vect', unigram_tfidf_vectorizer),('svm', LinearSVC(C=0.5))])\n",
        "scores = cross_val_score(svm_clf_tfidf_pipe, X, y, cv=10)\n",
        "avg=sum(scores)/len(scores)\n",
        "print(avg)\n",
        "\n",
        "# Append model values to apply to a dataframe to compare model performance\n",
        "model_name.append('SVM-TFIDF_CV')\n",
        "model_type.append('SVM')\n",
        "vector_type.append('TFIDF')\n",
        "sample_type.append('10-CV')\n",
        "accuracy.append(avg)"
      ]
    },
    {
      "cell_type": "code",
      "source": [
        "''' BernoulliNB '''\n",
        "\n",
        "# cross validation SVM\n",
        "\n",
        "nb_bern_pipe = Pipeline([('vect', unigram_bool_vectorizer),('nb', BernoulliNB())])\n",
        "scores = cross_val_score(nb_bern_pipe, X, y, cv=10)\n",
        "avg=sum(scores)/len(scores)\n",
        "print(avg)\n",
        "\n",
        "# Append model values to apply to a dataframe to compare model performance\n",
        "model_name.append('NB-Bern_CV')\n",
        "model_type.append('SVM')\n",
        "vector_type.append('Bernoulli')\n",
        "sample_type.append('10-CV')\n",
        "accuracy.append(avg)\n"
      ],
      "metadata": {
        "id": "pmog4xfw2oUF"
      },
      "execution_count": null,
      "outputs": []
    },
    {
      "cell_type": "code",
      "source": [
        "# Create a dataframe from dictionary of saved model scores\n",
        "dict = {'Model Name': model_name, 'Model Type': model_type, 'Vector Type':vector_type,'Sample Type': sample_type,'Accuracy': accuracy, 'Avg Precision':precision_wavg, 'Avg Recall':recall_wavg, 'Avg F1':f1_wavg}\n",
        "\n",
        "comp_df = pd.DataFrame.from_dict(dict, orient='index')\n",
        "comp_df = comp_df.transpose()\n",
        "\n",
        "# CSV output\n",
        "comp_df.to_csv(\"drive/Shareddrives/IST_736_Final_Project/Model_Scores.csv\")\n",
        "# Show\n",
        "comp_df"
      ],
      "metadata": {
        "id": "e2UEHc6e4WeC"
      },
      "execution_count": null,
      "outputs": []
    },
    {
      "cell_type": "code",
      "source": [
        "# Accuracy by Model\n",
        "import seaborn as sns\n",
        "ax = sns.barplot(data=comp_df,x='Model Name', y ='Accuracy')\n",
        "ax.set_xticklabels(ax.get_xticklabels(),rotation = 40, ha='right')\n",
        "plt.ylim(bottom= min(comp_df['Accuracy'])*.9)\n",
        "plt.title('Accuracy by Model')\n",
        "plt.show()"
      ],
      "metadata": {
        "id": "f5PbQN8V-HPu"
      },
      "execution_count": null,
      "outputs": []
    },
    {
      "cell_type": "code",
      "source": [
        "# Determine highest Accuracy Score\n",
        "max_accuracy = comp_df[comp_df['Accuracy'] == max(comp_df['Accuracy'])]\n",
        "print('Model w/ the highest accuracy score: ', max_accuracy[['Model Name','Accuracy']])\n",
        "# Determine highest F1 Score\n",
        "ho_df = comp_df[comp_df['Sample Type']== ('Hold-Out: ' + str(test_size))]\n",
        "max_f1 = ho_df[ho_df['Avg F1'] == max(ho_df['Avg F1'])]\n",
        "print('Model w/ the highest F1 score: ', max_f1[['Model Name','Avg F1']])\n"
      ],
      "metadata": {
        "id": "Xf3fAsec-Tq5"
      },
      "execution_count": null,
      "outputs": []
    },
    {
      "cell_type": "code",
      "source": [
        "\n"
      ],
      "metadata": {
        "id": "u7hp5Xse-XM0"
      },
      "execution_count": null,
      "outputs": []
    }
  ],
  "metadata": {
    "kernelspec": {
      "display_name": "Python 3 (ipykernel)",
      "language": "python",
      "name": "python3"
    },
    "language_info": {
      "codemirror_mode": {
        "name": "ipython",
        "version": 3
      },
      "file_extension": ".py",
      "mimetype": "text/x-python",
      "name": "python",
      "nbconvert_exporter": "python",
      "pygments_lexer": "ipython3",
      "version": "3.9.12"
    },
    "colab": {
      "provenance": [],
      "toc_visible": true,
      "include_colab_link": true
    }
  },
  "nbformat": 4,
  "nbformat_minor": 0
}